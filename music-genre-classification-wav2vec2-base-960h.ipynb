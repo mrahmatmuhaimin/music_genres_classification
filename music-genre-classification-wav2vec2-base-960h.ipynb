{
 "metadata": {
  "kernelspec": {
   "language": "python",
   "display_name": "Python 3",
   "name": "python3"
  },
  "language_info": {
   "pygments_lexer": "ipython3",
   "nbconvert_exporter": "python",
   "version": "3.6.4",
   "file_extension": ".py",
   "codemirror_mode": {
    "name": "ipython",
    "version": 3
   },
   "name": "python",
   "mimetype": "text/x-python"
  },
  "kaggle": {
   "accelerator": "gpu",
   "dataSources": [
    {
     "sourceId": 1032238,
     "sourceType": "datasetVersion",
     "datasetId": 568973
    }
   ],
   "dockerImageVersionId": 30527,
   "isInternetEnabled": false,
   "language": "python",
   "sourceType": "notebook",
   "isGpuEnabled": true
  }
 },
 "nbformat_minor": 4,
 "nbformat": 4,
 "cells": [
  {
   "cell_type": "markdown",
   "source": [
    "# Importing libraries, loading and transforming data"
   ],
   "metadata": {}
  },
  {
   "cell_type": "code",
   "source": [
    "!pip install -q evaluate transformers==4.28.1\n",
    "!pip install -U -q datasets\n",
    "!pip install -q torchaudio==0.12\n",
    "!add-apt-repository -y ppa:savoury1/ffmpeg4 \n",
    "!apt-get -qq install -y ffmpeg\n",
    "!pip install -q mlflow"
   ],
   "metadata": {
    "execution": {
     "iopub.status.busy": "2023-08-15T14:30:25.929425Z",
     "iopub.execute_input": "2023-08-15T14:30:25.930018Z",
     "iopub.status.idle": "2023-08-15T14:32:54.382809Z",
     "shell.execute_reply.started": "2023-08-15T14:30:25.929981Z",
     "shell.execute_reply": "2023-08-15T14:32:54.381193Z"
    },
    "trusted": true,
    "ExecuteTime": {
     "end_time": "2023-12-24T03:58:13.753649100Z",
     "start_time": "2023-12-24T03:58:03.747756800Z"
    }
   },
   "execution_count": 32,
   "outputs": [
    {
     "name": "stderr",
     "output_type": "stream",
     "text": [
      "ERROR: Ignored the following yanked versions: 2.0.0\n",
      "ERROR: Could not find a version that satisfies the requirement torchaudio==0.12 (from versions: 2.0.1, 2.0.2, 2.1.0, 2.1.1, 2.1.2)\n",
      "ERROR: No matching distribution found for torchaudio==0.12\n",
      "'add-apt-repository' is not recognized as an internal or external command,\n",
      "operable program or batch file.\n",
      "'apt-get' is not recognized as an internal or external command,\n",
      "operable program or batch file.\n"
     ]
    }
   ]
  },
  {
   "cell_type": "code",
   "source": [
    "#imports\n",
    "import pandas as pd\n",
    "import gc\n",
    "import re\n",
    "import numpy as np\n",
    "import torch\n",
    "from imblearn.over_sampling import RandomOverSampler\n",
    "import datasets\n",
    "import transformers\n",
    "print(transformers.__version__)\n",
    "\n",
    "import warnings \n",
    "warnings.filterwarnings(\"ignore\")\n",
    "\n",
    "from tqdm import tqdm\n",
    "tqdm.pandas()"
   ],
   "metadata": {
    "execution": {
     "iopub.status.busy": "2023-08-15T14:32:54.38686Z",
     "iopub.execute_input": "2023-08-15T14:32:54.387948Z",
     "iopub.status.idle": "2023-08-15T14:32:58.686583Z",
     "shell.execute_reply.started": "2023-08-15T14:32:54.387912Z",
     "shell.execute_reply": "2023-08-15T14:32:58.685432Z"
    },
    "trusted": true,
    "ExecuteTime": {
     "end_time": "2023-12-24T03:57:56.565481100Z",
     "start_time": "2023-12-24T03:57:56.551185800Z"
    }
   },
   "execution_count": 31,
   "outputs": [
    {
     "ename": "ModuleNotFoundError",
     "evalue": "No module named 'torch'",
     "output_type": "error",
     "traceback": [
      "\u001B[1;31m---------------------------------------------------------------------------\u001B[0m",
      "\u001B[1;31mModuleNotFoundError\u001B[0m                       Traceback (most recent call last)",
      "Cell \u001B[1;32mIn[31], line 6\u001B[0m\n\u001B[0;32m      4\u001B[0m \u001B[38;5;28;01mimport\u001B[39;00m \u001B[38;5;21;01mre\u001B[39;00m\n\u001B[0;32m      5\u001B[0m \u001B[38;5;28;01mimport\u001B[39;00m \u001B[38;5;21;01mnumpy\u001B[39;00m \u001B[38;5;28;01mas\u001B[39;00m \u001B[38;5;21;01mnp\u001B[39;00m\n\u001B[1;32m----> 6\u001B[0m \u001B[38;5;28;01mimport\u001B[39;00m \u001B[38;5;21;01mtorch\u001B[39;00m\n\u001B[0;32m      7\u001B[0m \u001B[38;5;28;01mfrom\u001B[39;00m \u001B[38;5;21;01mimblearn\u001B[39;00m\u001B[38;5;21;01m.\u001B[39;00m\u001B[38;5;21;01mover_sampling\u001B[39;00m \u001B[38;5;28;01mimport\u001B[39;00m RandomOverSampler\n\u001B[0;32m      8\u001B[0m \u001B[38;5;28;01mimport\u001B[39;00m \u001B[38;5;21;01mdatasets\u001B[39;00m\n",
      "\u001B[1;31mModuleNotFoundError\u001B[0m: No module named 'torch'"
     ]
    }
   ]
  },
  {
   "cell_type": "code",
   "source": [
    "RATE_HZ = 16000 # resampling rate in Hz\n",
    "MAX_LENGTH = 480000 # maximum audio interval length to consider (= RATE_HZ * SECONDS)\n",
    "labels = ['disco', 'metal', 'reggae', 'blues', 'rock', 'classical', 'jazz', 'hiphop', 'country', 'pop']\n",
    "label2id, id2label = dict(), dict()\n",
    "for i, label in enumerate(labels):\n",
    "    label2id[label] = i\n",
    "    id2label[i] = label\n",
    "\n",
    "print(id2label, '\\n\\n', label2id)"
   ],
   "metadata": {
    "execution": {
     "iopub.status.busy": "2023-08-15T14:32:58.688347Z",
     "iopub.execute_input": "2023-08-15T14:32:58.689763Z",
     "iopub.status.idle": "2023-08-15T14:32:58.700081Z",
     "shell.execute_reply.started": "2023-08-15T14:32:58.689688Z",
     "shell.execute_reply": "2023-08-15T14:32:58.698809Z"
    },
    "trusted": true,
    "ExecuteTime": {
     "end_time": "2023-12-24T03:57:02.628479Z",
     "start_time": "2023-12-24T03:57:02.602835900Z"
    }
   },
   "execution_count": null,
   "outputs": []
  },
  {
   "cell_type": "markdown",
   "source": [
    "# Load and preprocess data"
   ],
   "metadata": {}
  },
  {
   "cell_type": "code",
   "source": [
    "from pathlib import Path\n",
    "import torchaudio\n",
    "\n",
    "def load_data():\n",
    "    file_list = []\n",
    "    label_list = []\n",
    "    for file in Path('/kaggle/input/gtzan-dataset-music-genre-classification/Data/genres_original/').glob('*/*.wav'):\n",
    "        if not 'jazz.00054' in str(file): # skip bad example\n",
    "            genre = re.match(r\"(\\D+)\", file.stem).group(1).rstrip('.')\n",
    "            file_list.append(file)\n",
    "            label_list.append(label2id[genre])\n",
    "    dd = pd.DataFrame()\n",
    "    dd['file'] = file_list\n",
    "    dd['label'] = label_list\n",
    "    return dd"
   ],
   "metadata": {
    "execution": {
     "iopub.status.busy": "2023-08-15T14:32:58.703641Z",
     "iopub.execute_input": "2023-08-15T14:32:58.704231Z",
     "iopub.status.idle": "2023-08-15T14:32:59.15494Z",
     "shell.execute_reply.started": "2023-08-15T14:32:58.704193Z",
     "shell.execute_reply": "2023-08-15T14:32:59.153478Z"
    },
    "trusted": true,
    "ExecuteTime": {
     "start_time": "2023-12-24T03:57:02.605047200Z"
    }
   },
   "execution_count": null,
   "outputs": []
  },
  {
   "cell_type": "code",
   "source": [
    "%%time\n",
    "dd = load_data()\n",
    "dd.head()"
   ],
   "metadata": {
    "execution": {
     "iopub.status.busy": "2023-08-15T14:32:59.160159Z",
     "iopub.execute_input": "2023-08-15T14:32:59.161074Z",
     "iopub.status.idle": "2023-08-15T14:32:59.581782Z",
     "shell.execute_reply.started": "2023-08-15T14:32:59.161031Z",
     "shell.execute_reply": "2023-08-15T14:32:59.580642Z"
    },
    "trusted": true,
    "ExecuteTime": {
     "start_time": "2023-12-24T03:57:02.606095Z"
    }
   },
   "execution_count": null,
   "outputs": []
  },
  {
   "cell_type": "code",
   "source": [
    "# random oversampling of minority class # ensure that each class has the same number of records\n",
    "y = dd[['label']]\n",
    "dd = dd.drop(['label'], axis=1)\n",
    "ros = RandomOverSampler(random_state=83)\n",
    "dd, y_resampled = ros.fit_resample(dd, y)\n",
    "del y\n",
    "dd['label'] = y_resampled\n",
    "del y_resampled\n",
    "gc.collect()"
   ],
   "metadata": {
    "execution": {
     "iopub.status.busy": "2023-08-15T14:32:59.583411Z",
     "iopub.execute_input": "2023-08-15T14:32:59.584398Z",
     "iopub.status.idle": "2023-08-15T14:32:59.820199Z",
     "shell.execute_reply.started": "2023-08-15T14:32:59.584366Z",
     "shell.execute_reply": "2023-08-15T14:32:59.819101Z"
    },
    "trusted": true,
    "ExecuteTime": {
     "start_time": "2023-12-24T03:57:02.608612Z"
    }
   },
   "execution_count": null,
   "outputs": []
  },
  {
   "cell_type": "code",
   "source": [
    "dd.shape, dd['label'].value_counts()"
   ],
   "metadata": {
    "execution": {
     "iopub.status.busy": "2023-08-15T14:32:59.821554Z",
     "iopub.execute_input": "2023-08-15T14:32:59.823029Z",
     "iopub.status.idle": "2023-08-15T14:32:59.836801Z",
     "shell.execute_reply.started": "2023-08-15T14:32:59.822992Z",
     "shell.execute_reply": "2023-08-15T14:32:59.835583Z"
    },
    "trusted": true,
    "ExecuteTime": {
     "start_time": "2023-12-24T03:57:02.610700300Z"
    }
   },
   "execution_count": null,
   "outputs": []
  },
  {
   "cell_type": "code",
   "source": [
    "def get_transform_audio(file):\n",
    "    audio,rate = torchaudio.load(str(file))\n",
    "    transform = torchaudio.transforms.Resample(rate,RATE_HZ)\n",
    "    audio = transform(audio).squeeze(0).numpy()\n",
    "    audio = audio[:MAX_LENGTH]\n",
    "    return audio # truncate to first part of audio to save RAM\n",
    "dd['audio'] = dd['file'].progress_apply(get_transform_audio)"
   ],
   "metadata": {
    "execution": {
     "iopub.status.busy": "2023-08-15T14:32:59.838504Z",
     "iopub.execute_input": "2023-08-15T14:32:59.839486Z",
     "iopub.status.idle": "2023-08-15T14:34:34.401622Z",
     "shell.execute_reply.started": "2023-08-15T14:32:59.83944Z",
     "shell.execute_reply": "2023-08-15T14:34:34.400424Z"
    },
    "trusted": true,
    "ExecuteTime": {
     "start_time": "2023-12-24T03:57:02.613223600Z"
    }
   },
   "execution_count": null,
   "outputs": []
  },
  {
   "cell_type": "code",
   "source": [
    "%%time\n",
    "dd = dd.drop(['file'], axis=1)"
   ],
   "metadata": {
    "execution": {
     "iopub.status.busy": "2023-08-15T14:34:34.403246Z",
     "iopub.execute_input": "2023-08-15T14:34:34.403685Z",
     "iopub.status.idle": "2023-08-15T14:34:34.411934Z",
     "shell.execute_reply.started": "2023-08-15T14:34:34.403645Z",
     "shell.execute_reply": "2023-08-15T14:34:34.410779Z"
    },
    "trusted": true,
    "ExecuteTime": {
     "start_time": "2023-12-24T03:57:02.615867200Z"
    }
   },
   "execution_count": null,
   "outputs": []
  },
  {
   "cell_type": "code",
   "source": [
    "dd.sample(5)"
   ],
   "metadata": {
    "execution": {
     "iopub.status.busy": "2023-08-15T14:34:34.417831Z",
     "iopub.execute_input": "2023-08-15T14:34:34.419082Z",
     "iopub.status.idle": "2023-08-15T14:34:34.442586Z",
     "shell.execute_reply.started": "2023-08-15T14:34:34.419041Z",
     "shell.execute_reply": "2023-08-15T14:34:34.441642Z"
    },
    "trusted": true,
    "ExecuteTime": {
     "start_time": "2023-12-24T03:57:02.617859200Z"
    }
   },
   "execution_count": null,
   "outputs": []
  },
  {
   "cell_type": "code",
   "source": [
    "from datasets import Dataset, ClassLabel\n",
    "dd = Dataset.from_pandas(dd)"
   ],
   "metadata": {
    "execution": {
     "iopub.status.busy": "2023-08-15T14:34:34.445924Z",
     "iopub.execute_input": "2023-08-15T14:34:34.446227Z",
     "iopub.status.idle": "2023-08-15T14:34:43.931872Z",
     "shell.execute_reply.started": "2023-08-15T14:34:34.4462Z",
     "shell.execute_reply": "2023-08-15T14:34:43.930798Z"
    },
    "trusted": true,
    "ExecuteTime": {
     "start_time": "2023-12-24T03:57:02.620273600Z"
    }
   },
   "execution_count": null,
   "outputs": []
  },
  {
   "cell_type": "code",
   "source": [
    "from collections import Counter\n",
    "Counter(dd['label']).items()"
   ],
   "metadata": {
    "execution": {
     "iopub.status.busy": "2023-08-15T14:34:43.934767Z",
     "iopub.execute_input": "2023-08-15T14:34:43.937214Z",
     "iopub.status.idle": "2023-08-15T14:34:43.945551Z",
     "shell.execute_reply.started": "2023-08-15T14:34:43.937183Z",
     "shell.execute_reply": "2023-08-15T14:34:43.944449Z"
    },
    "trusted": true,
    "ExecuteTime": {
     "start_time": "2023-12-24T03:57:02.622356900Z"
    }
   },
   "execution_count": null,
   "outputs": []
  },
  {
   "cell_type": "code",
   "source": [
    "dd = dd.train_test_split(test_size=0.2)\n",
    "dd"
   ],
   "metadata": {
    "execution": {
     "iopub.status.busy": "2023-08-15T14:34:43.947248Z",
     "iopub.execute_input": "2023-08-15T14:34:43.948179Z",
     "iopub.status.idle": "2023-08-15T14:34:43.981193Z",
     "shell.execute_reply.started": "2023-08-15T14:34:43.948134Z",
     "shell.execute_reply": "2023-08-15T14:34:43.98019Z"
    },
    "trusted": true,
    "ExecuteTime": {
     "start_time": "2023-12-24T03:57:02.624479500Z"
    }
   },
   "execution_count": null,
   "outputs": []
  },
  {
   "cell_type": "markdown",
   "source": [
    "# Load facebook/wav2vec2-base-960h model"
   ],
   "metadata": {}
  },
  {
   "cell_type": "code",
   "source": [
    "from transformers import AutoFeatureExtractor, AutoModelForAudioClassification\n",
    "\n",
    "model_str = \"facebook/wav2vec2-base-960h\" \n",
    "feature_extractor = AutoFeatureExtractor.from_pretrained(model_str)\n",
    "model = AutoModelForAudioClassification.from_pretrained(model_str,num_labels=len(labels))\n",
    "model.config.id2label = id2label\n",
    "# number of trainable parameters\n",
    "print(model.num_parameters(only_trainable=True)/1e6)"
   ],
   "metadata": {
    "execution": {
     "iopub.status.busy": "2023-08-15T14:34:43.982673Z",
     "iopub.execute_input": "2023-08-15T14:34:43.983271Z",
     "iopub.status.idle": "2023-08-15T14:34:48.136297Z",
     "shell.execute_reply.started": "2023-08-15T14:34:43.983233Z",
     "shell.execute_reply": "2023-08-15T14:34:48.135146Z"
    },
    "trusted": true,
    "ExecuteTime": {
     "start_time": "2023-12-24T03:57:02.626479100Z"
    }
   },
   "execution_count": null,
   "outputs": []
  },
  {
   "cell_type": "code",
   "source": [
    "def preprocess_function(batch):    \n",
    "    inputs = feature_extractor(batch['audio'], sampling_rate=RATE_HZ, max_length=MAX_LENGTH, truncation=True)\n",
    "    inputs['input_values'] = inputs['input_values'][0]\n",
    "    return inputs\n",
    "\n",
    "dd['test'] = dd['test'].map(preprocess_function, remove_columns=\"audio\", batched=False)\n",
    "dd['train'] = dd['train'].map(preprocess_function, remove_columns=\"audio\", batched=False)"
   ],
   "metadata": {
    "execution": {
     "iopub.status.busy": "2023-08-15T14:34:48.138073Z",
     "iopub.execute_input": "2023-08-15T14:34:48.138472Z",
     "iopub.status.idle": "2023-08-15T14:41:24.557032Z",
     "shell.execute_reply.started": "2023-08-15T14:34:48.138436Z",
     "shell.execute_reply": "2023-08-15T14:41:24.555813Z"
    },
    "trusted": true,
    "ExecuteTime": {
     "end_time": "2023-12-24T03:57:02.673894400Z",
     "start_time": "2023-12-24T03:57:02.628479Z"
    }
   },
   "execution_count": null,
   "outputs": []
  },
  {
   "cell_type": "code",
   "source": [
    "gc.collect()"
   ],
   "metadata": {
    "execution": {
     "iopub.status.busy": "2023-08-15T14:41:24.558914Z",
     "iopub.execute_input": "2023-08-15T14:41:24.559641Z",
     "iopub.status.idle": "2023-08-15T14:41:24.89408Z",
     "shell.execute_reply.started": "2023-08-15T14:41:24.559598Z",
     "shell.execute_reply": "2023-08-15T14:41:24.892998Z"
    },
    "trusted": true,
    "ExecuteTime": {
     "start_time": "2023-12-24T03:57:02.631383700Z"
    }
   },
   "execution_count": null,
   "outputs": []
  },
  {
   "cell_type": "markdown",
   "source": [
    "# Train and evaluate model"
   ],
   "metadata": {}
  },
  {
   "cell_type": "code",
   "source": [
    "import evaluate\n",
    "\n",
    "accuracy = evaluate.load(\"accuracy\")\n",
    "\n",
    "from sklearn.metrics import roc_auc_score\n",
    "def compute_metrics(eval_pred):\n",
    "    # Compute the ROC AUC score\n",
    "    predictions = eval_pred.predictions\n",
    "    predictions = np.exp(predictions)/np.exp(predictions).sum(axis=1, keepdims=True)\n",
    "    label_ids = eval_pred.label_ids\n",
    "    roc_auc = roc_auc_score(label_ids, predictions, average='macro', multi_class='ovr') # one-vs-rest ROC AUC score\n",
    "    \n",
    "    # Calculate accuracy using the loaded accuracy metric\n",
    "    acc_score = accuracy.compute(predictions=predictions.argmax(axis=1), references=label_ids)['accuracy']\n",
    "    \n",
    "    return {\n",
    "        \"roc_auc\": roc_auc,\n",
    "        \"accuracy\": acc_score\n",
    "    }"
   ],
   "metadata": {
    "execution": {
     "iopub.status.busy": "2023-08-15T14:41:24.896007Z",
     "iopub.execute_input": "2023-08-15T14:41:24.896442Z",
     "iopub.status.idle": "2023-08-15T14:41:27.379505Z",
     "shell.execute_reply.started": "2023-08-15T14:41:24.896404Z",
     "shell.execute_reply": "2023-08-15T14:41:27.37838Z"
    },
    "trusted": true,
    "ExecuteTime": {
     "start_time": "2023-12-24T03:57:02.634048700Z"
    }
   },
   "execution_count": null,
   "outputs": []
  },
  {
   "cell_type": "code",
   "source": [
    "from transformers import TrainingArguments, Trainer\n",
    "batch_size=4\n",
    "warmup_steps=50\n",
    "weight_decay=0.02\n",
    "num_train_epochs=25\n",
    "model_name = \"music_genres_classification\"\n",
    "training_args = TrainingArguments(\n",
    "    output_dir=model_name,\n",
    "    logging_dir='./logs',\n",
    "    num_train_epochs=num_train_epochs,\n",
    "    per_device_train_batch_size=batch_size,\n",
    "    per_device_eval_batch_size=batch_size,\n",
    "    learning_rate=1e-5, # 5e-6\n",
    "    logging_strategy='steps',\n",
    "    logging_first_step=True,\n",
    "    load_best_model_at_end=True,\n",
    "    logging_steps=1,\n",
    "    evaluation_strategy='epoch',\n",
    "    warmup_steps=warmup_steps,\n",
    "    weight_decay=weight_decay,\n",
    "    eval_steps=1,\n",
    "    gradient_accumulation_steps=1, \n",
    "    gradient_checkpointing=True,\n",
    "    save_strategy='epoch',\n",
    "    save_total_limit=1, # save fewer checkpoints to limit used space\n",
    "    report_to=\"mlflow\",  # log to mlflow\n",
    ")\n",
    "\n",
    "trainer = Trainer(\n",
    "    model=model,\n",
    "    args=training_args,\n",
    "    train_dataset=dd[\"train\"],\n",
    "    eval_dataset=dd[\"test\"],\n",
    "    tokenizer=feature_extractor,\n",
    "    compute_metrics=compute_metrics,\n",
    ")"
   ],
   "metadata": {
    "execution": {
     "iopub.status.busy": "2023-08-15T14:41:27.381223Z",
     "iopub.execute_input": "2023-08-15T14:41:27.381611Z",
     "iopub.status.idle": "2023-08-15T14:41:31.630315Z",
     "shell.execute_reply.started": "2023-08-15T14:41:27.381575Z",
     "shell.execute_reply": "2023-08-15T14:41:31.62919Z"
    },
    "trusted": true,
    "ExecuteTime": {
     "start_time": "2023-12-24T03:57:02.635201300Z"
    }
   },
   "execution_count": null,
   "outputs": []
  },
  {
   "cell_type": "code",
   "source": [
    "trainer.evaluate()"
   ],
   "metadata": {
    "execution": {
     "iopub.status.busy": "2023-08-15T14:41:31.631938Z",
     "iopub.execute_input": "2023-08-15T14:41:31.632296Z",
     "iopub.status.idle": "2023-08-15T14:43:10.096623Z",
     "shell.execute_reply.started": "2023-08-15T14:41:31.63226Z",
     "shell.execute_reply": "2023-08-15T14:43:10.095501Z"
    },
    "trusted": true,
    "ExecuteTime": {
     "start_time": "2023-12-24T03:57:02.636209700Z"
    }
   },
   "execution_count": null,
   "outputs": []
  },
  {
   "cell_type": "code",
   "source": [
    "trainer.train()"
   ],
   "metadata": {
    "execution": {
     "iopub.status.busy": "2023-08-15T14:43:10.098633Z",
     "iopub.execute_input": "2023-08-15T14:43:10.099406Z",
     "iopub.status.idle": "2023-08-15T19:37:36.567813Z",
     "shell.execute_reply.started": "2023-08-15T14:43:10.099369Z",
     "shell.execute_reply": "2023-08-15T19:37:36.566735Z"
    },
    "trusted": true,
    "ExecuteTime": {
     "start_time": "2023-12-24T03:57:02.637232500Z"
    }
   },
   "execution_count": null,
   "outputs": []
  },
  {
   "cell_type": "code",
   "source": [
    "trainer.evaluate()"
   ],
   "metadata": {
    "execution": {
     "iopub.status.busy": "2023-08-15T19:37:36.569202Z",
     "iopub.execute_input": "2023-08-15T19:37:36.570229Z",
     "iopub.status.idle": "2023-08-15T19:39:09.829284Z",
     "shell.execute_reply.started": "2023-08-15T19:37:36.570191Z",
     "shell.execute_reply": "2023-08-15T19:39:09.828339Z"
    },
    "trusted": true,
    "ExecuteTime": {
     "start_time": "2023-12-24T03:57:02.638239500Z"
    }
   },
   "execution_count": null,
   "outputs": []
  },
  {
   "cell_type": "code",
   "source": [
    "trainer.save_model()"
   ],
   "metadata": {
    "execution": {
     "iopub.status.busy": "2023-08-15T19:39:09.830587Z",
     "iopub.execute_input": "2023-08-15T19:39:09.831446Z",
     "iopub.status.idle": "2023-08-15T19:39:10.401804Z",
     "shell.execute_reply.started": "2023-08-15T19:39:09.83141Z",
     "shell.execute_reply": "2023-08-15T19:39:10.4008Z"
    },
    "trusted": true,
    "ExecuteTime": {
     "start_time": "2023-12-24T03:57:02.639248700Z"
    }
   },
   "execution_count": null,
   "outputs": []
  },
  {
   "cell_type": "code",
   "source": [
    "from transformers import pipeline\n",
    "\n",
    "pipe=pipeline('audio-classification',model=model_name,device=0)"
   ],
   "metadata": {
    "execution": {
     "iopub.status.busy": "2023-08-15T19:39:10.403451Z",
     "iopub.execute_input": "2023-08-15T19:39:10.403886Z",
     "iopub.status.idle": "2023-08-15T19:39:11.539627Z",
     "shell.execute_reply.started": "2023-08-15T19:39:10.403848Z",
     "shell.execute_reply": "2023-08-15T19:39:11.538606Z"
    },
    "trusted": true,
    "ExecuteTime": {
     "start_time": "2023-12-24T03:57:02.640249300Z"
    }
   },
   "execution_count": null,
   "outputs": []
  },
  {
   "cell_type": "code",
   "source": [
    "# disco example\n",
    "audio,rate=torchaudio.load('/kaggle/input/gtzan-dataset-music-genre-classification/Data/genres_original/disco/disco.00005.wav')\n",
    "transform=torchaudio.transforms.Resample(rate,RATE_HZ)\n",
    "audio=transform(audio).numpy().reshape(-1)\n",
    "# make a classification pipeline\n",
    "pipe(audio)"
   ],
   "metadata": {
    "execution": {
     "iopub.status.busy": "2023-08-15T19:39:11.541129Z",
     "iopub.execute_input": "2023-08-15T19:39:11.54149Z",
     "iopub.status.idle": "2023-08-15T19:39:11.765649Z",
     "shell.execute_reply.started": "2023-08-15T19:39:11.541454Z",
     "shell.execute_reply": "2023-08-15T19:39:11.764657Z"
    },
    "trusted": true,
    "ExecuteTime": {
     "start_time": "2023-12-24T03:57:02.641249400Z"
    }
   },
   "execution_count": null,
   "outputs": []
  },
  {
   "cell_type": "code",
   "source": [
    "# classical example\n",
    "audio,rate=torchaudio.load('/kaggle/input/gtzan-dataset-music-genre-classification/Data/genres_original/classical/classical.00014.wav')\n",
    "transform=torchaudio.transforms.Resample(rate,RATE_HZ)\n",
    "audio=transform(audio).numpy().reshape(-1)\n",
    "# make a classification pipeline\n",
    "pipe(audio)"
   ],
   "metadata": {
    "execution": {
     "iopub.status.busy": "2023-08-15T19:39:11.76725Z",
     "iopub.execute_input": "2023-08-15T19:39:11.767601Z",
     "iopub.status.idle": "2023-08-15T19:39:11.952901Z",
     "shell.execute_reply.started": "2023-08-15T19:39:11.767567Z",
     "shell.execute_reply": "2023-08-15T19:39:11.951919Z"
    },
    "trusted": true,
    "ExecuteTime": {
     "start_time": "2023-12-24T03:57:02.642249100Z"
    }
   },
   "execution_count": null,
   "outputs": []
  },
  {
   "cell_type": "code",
   "source": [
    "from IPython.display import Audio\n",
    "Audio(audio,rate=RATE_HZ)"
   ],
   "metadata": {
    "execution": {
     "iopub.status.busy": "2023-08-15T19:39:11.954533Z",
     "iopub.execute_input": "2023-08-15T19:39:11.955574Z",
     "iopub.status.idle": "2023-08-15T19:39:11.996904Z",
     "shell.execute_reply.started": "2023-08-15T19:39:11.955538Z",
     "shell.execute_reply": "2023-08-15T19:39:11.995784Z"
    },
    "trusted": true,
    "ExecuteTime": {
     "start_time": "2023-12-24T03:57:02.643248700Z"
    }
   },
   "execution_count": null,
   "outputs": []
  },
  {
   "cell_type": "markdown",
   "source": [
    "# Send model to Huggingface"
   ],
   "metadata": {}
  },
  {
   "cell_type": "code",
   "source": [
    "# finally, save the model to Huggingface\n",
    "from huggingface_hub import notebook_login\n",
    "notebook_login()"
   ],
   "metadata": {
    "execution": {
     "iopub.status.busy": "2023-08-15T19:40:00.640281Z",
     "iopub.execute_input": "2023-08-15T19:40:00.64066Z",
     "iopub.status.idle": "2023-08-15T19:40:00.674931Z",
     "shell.execute_reply.started": "2023-08-15T19:40:00.640629Z",
     "shell.execute_reply": "2023-08-15T19:40:00.67397Z"
    },
    "trusted": true,
    "ExecuteTime": {
     "start_time": "2023-12-24T03:57:02.644246600Z"
    }
   },
   "execution_count": null,
   "outputs": []
  },
  {
   "cell_type": "code",
   "source": [
    "from huggingface_hub import HfApi\n",
    "api = HfApi()\n",
    "repo_id = f\"dima806/{model_name}\"\n",
    "try:\n",
    "    api.create_repo(repo_id)\n",
    "except:\n",
    "    print(f\"Repo {repo_id} already exists\")"
   ],
   "metadata": {
    "execution": {
     "iopub.status.busy": "2023-08-15T19:41:49.005089Z",
     "iopub.execute_input": "2023-08-15T19:41:49.005475Z",
     "iopub.status.idle": "2023-08-15T19:41:49.120295Z",
     "shell.execute_reply.started": "2023-08-15T19:41:49.005446Z",
     "shell.execute_reply": "2023-08-15T19:41:49.119275Z"
    },
    "trusted": true,
    "ExecuteTime": {
     "start_time": "2023-12-24T03:57:02.645510500Z"
    }
   },
   "execution_count": null,
   "outputs": []
  },
  {
   "cell_type": "code",
   "source": [
    "api.upload_folder(\n",
    "    folder_path=model_name,\n",
    "    path_in_repo = \".\",\n",
    "    repo_id=repo_id,\n",
    "    repo_type=\"model\"\n",
    ")"
   ],
   "metadata": {
    "execution": {
     "iopub.status.busy": "2023-08-15T19:40:34.024195Z",
     "iopub.execute_input": "2023-08-15T19:40:34.025308Z",
     "iopub.status.idle": "2023-08-15T19:41:23.790589Z",
     "shell.execute_reply.started": "2023-08-15T19:40:34.025247Z",
     "shell.execute_reply": "2023-08-15T19:41:23.789428Z"
    },
    "trusted": true,
    "ExecuteTime": {
     "start_time": "2023-12-24T03:57:02.646520200Z"
    }
   },
   "execution_count": null,
   "outputs": []
  },
  {
   "cell_type": "markdown",
   "source": [
    "### Finally, the model is saved and can be used from https://huggingface.co/dima806/music_genres_classification"
   ],
   "metadata": {}
  },
  {
   "cell_type": "code",
   "source": [],
   "metadata": {
    "ExecuteTime": {
     "start_time": "2023-12-24T03:57:02.648519100Z"
    }
   },
   "execution_count": null,
   "outputs": []
  }
 ]
}
